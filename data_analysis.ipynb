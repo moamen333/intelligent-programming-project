{
 "cells": [
  {
   "cell_type": "code",
   "execution_count": null,
   "metadata": {},
   "outputs": [],
   "source": [
    "import pandas as pd\n",
    "\n",
    "data=pd.read_csv('heart.csv')\n",
    "print(data.isnull().sum())"
   ]
  },
  {
   "cell_type": "code",
   "execution_count": null,
   "metadata": {},
   "outputs": [],
   "source": [
    "data.fillna(data.mean(),inplace=True)\n",
    "print(data)"
   ]
  },
  {
   "cell_type": "code",
   "execution_count": null,
   "metadata": {},
   "outputs": [],
   "source": [
    "data=pd.DataFrame(data)\n",
    "print(data)"
   ]
  },
  {
   "cell_type": "code",
   "execution_count": null,
   "metadata": {},
   "outputs": [],
   "source": [
    "from sklearn.preprocessing import MinMaxScaler,OneHotEncoder\n",
    "scaler = MinMaxScaler()\n",
    "scaled_data = scaler.fit_transform(data)\n",
    "\n",
    "# Create a new DataFrame with scaled features\n",
    "scaled_data = pd.DataFrame(scaled_data, columns=data.columns)\n",
    "\n",
    "# Display results\n",
    "print(\"Original Data:\\n\", data)\n",
    "print(\"\\nScaled Data:\\n\", scaled_data)"
   ]
  },
  {
   "cell_type": "code",
   "execution_count": null,
   "metadata": {},
   "outputs": [],
   "source": [
    "import pandas as pd\n",
    "categorical_features = ['cp', 'restecg', 'slope', 'thal']\n",
    "df=pd.get_dummies(data, columns=categorical_features, drop_first=True)\n",
    "#applying one hot encoded\n",
    "\n",
    "\n"
   ]
  },
  {
   "cell_type": "code",
   "execution_count": null,
   "metadata": {},
   "outputs": [],
   "source": [
    "# Feature Selection\n",
    "correlation = df.corr()['target']\n",
    "selected_features = correlation[correlation.abs() > 0.2].index.tolist()\n",
    "\n",
    "\n",
    "# Keep Selected Features\n",
    "data = df[selected_features]\n",
    "\n",
    "# Save Cleaned Data\n",
    "data.to_csv('cleaned_data.csv', index=False)\n",
    "data"
   ]
  },
  {
   "cell_type": "code",
   "execution_count": null,
   "metadata": {},
   "outputs": [],
   "source": [
    "import nbimporter\n",
    "import data_analysis  # This will work for a .ipynb file\n",
    "\n",
    "import seaborn as sns\n",
    "import matplotlib.pyplot as plt\n",
    "from sklearn.ensemble import RandomForestClassifier\n",
    "# Step 1: Statistical Summary\n",
    "# Display distributions of key numerical features\n",
    "data.describe()\n",
    "\n",
    "# Visualize distributions with histograms\n",
    "numerical_features = ['age', 'exang', 'sex', 'thalach', 'oldpeak']  # Add more if needed\n",
    "for feature in numerical_features:\n",
    "    sns.histplot(data[feature], kde=True, bins=30)\n",
    "    plt.title(f\"Distribution of {feature}\")\n",
    "    plt.xlabel(feature)\n",
    "    plt.ylabel(\"Frequency\")\n",
    "    plt.show()\n",
    "\n",
    "\n"
   ]
  },
  {
   "cell_type": "code",
   "execution_count": null,
   "metadata": {},
   "outputs": [],
   "source": [
    "# Step 2: Correlation Heatmap\n",
    "# Compute and visualize the correlation matrix\n",
    "correlation_matrix = data.corr()\n",
    "plt.figure(figsize=(10, 8))\n",
    "sns.heatmap(correlation_matrix, annot=True, fmt=\".2f\", cmap=\"coolwarm\", cbar=True)\n",
    "plt.title(\"Feature Correlation Heatmap\")\n",
    "plt.show()"
   ]
  },
  {
   "cell_type": "code",
   "execution_count": null,
   "metadata": {},
   "outputs": [],
   "source": [
    "# Step 3: Boxplots\n",
    "# Analyze data distribution and outliers\n",
    "for feature in numerical_features:\n",
    "    sns.boxplot(x=data[feature])\n",
    "    plt.title(f\"Boxplot of {feature}\")\n",
    "    plt.xlabel(feature)\n",
    "    plt.show()\n",
    "\n"
   ]
  },
  {
   "cell_type": "code",
   "execution_count": null,
   "metadata": {},
   "outputs": [],
   "source": [
    "# Step 4: Feature Importance Plot\n",
    "# Rank features based on significance using a RandomForestClassifier\n",
    "X = data.drop(columns='target')  # Independent variables\n",
    "y = data['target']  # Target variable\n",
    "\n",
    "# Train a simple RandomForest model to compute feature importance\n",
    "model = RandomForestClassifier(random_state=42)\n",
    "model.fit(X, y)\n",
    "feature_importances = pd.DataFrame({'Feature': X.columns, 'Importance': model.feature_importances_})\n",
    "feature_importances = feature_importances.sort_values(by='Importance', ascending=False)\n",
    "\n",
    "# Plot feature importance\n",
    "sns.barplot(x='Importance', y='Feature', data=feature_importances)\n",
    "plt.title(\"Feature Importance for Heart Disease Prediction\")\n",
    "plt.xlabel(\"Importance\")\n",
    "plt.ylabel(\"Feature\")\n",
    "plt.show()"
   ]
  }
 ],
 "metadata": {
  "kernelspec": {
   "display_name": "Python 3",
   "language": "python",
   "name": "python3"
  },
  "language_info": {
   "name": "python",
   "version": "3.11.4"
  }
 },
 "nbformat": 4,
 "nbformat_minor": 2
}
